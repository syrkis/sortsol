{
 "cells": [
  {
   "cell_type": "markdown",
   "metadata": {},
   "source": [
    "# sortsol"
   ]
  },
  {
   "cell_type": "code",
   "execution_count": null,
   "metadata": {},
   "outputs": [],
   "source": [
    "import syrkis\n",
    "\n",
    "import jax\n",
    "import jax.numpy as jnp\n",
    "from jax import grad, jit, vmap, random\n",
    "from jax.lax import scatter_add, ScatterDimensionNumbers\n",
    "from evosax import OpenES\n",
    "\n",
    "from functools import partial\n",
    "from typing import Callable, Tuple, List, Dict, Any, Optional"
   ]
  },
  {
   "cell_type": "code",
   "execution_count": null,
   "metadata": {},
   "outputs": [],
   "source": [
    "POPSIZE  = 100\n",
    "N_DRONES = 16\n",
    "kernel   = jnp.ones((3, 3))[:, :, None, None]"
   ]
  },
  {
   "cell_type": "code",
   "execution_count": null,
   "metadata": {},
   "outputs": [],
   "source": [
    "# TYPES\n",
    "Array = jnp.ndarray"
   ]
  },
  {
   "cell_type": "code",
   "execution_count": null,
   "metadata": {},
   "outputs": [],
   "source": [
    "def grid_positions(n_drones) -> Array:\n",
    "    # n_drones is power of 2\n",
    "    lo, hi = - int(n_drones ** 0.5), int(n_drones ** 0.5)\n",
    "    span   = jnp.linspace(lo, hi, int(n_drones ** 0.5))\n",
    "    x, y   = jnp.meshgrid(span, span)\n",
    "    coords = jnp.stack([x.ravel(), y.ravel()], axis=1)\n",
    "    return coords\n",
    "\n",
    "def init_swarm(n_drones: int) -> Array:\n",
    "    coords   = grid_positions(n_drones)\n",
    "    velocity = jnp.zeros_like(coords)\n",
    "    swarm    = jnp.concatenate([coords, velocity], axis=1)\n",
    "    return swarm\n",
    "\n",
    "def conv2d(x, w):\n",
    "    return jax.lax.conv_general_dilated(x, w, window_strides=(1, 1),padding='SAME',dimension_numbers=(\"NHWC\", \"HWIO\", \"NHWC\")).squeeze()\n",
    "\n",
    "def positions(swarm: Array) -> Array:  # TODO: sort by distance (probably)\n",
    "    delta        = swarm[:, :N_DRONES][:, jnp.newaxis] - swarm[:, :N_DRONES][jnp.newaxis, :]                      \n",
    "    other_dists  = jnp.sqrt(jnp.sum(delta ** 2, axis=-1))                          # others\n",
    "    other_theta  = jnp.arctan2(delta[..., 1], delta[..., 0])\n",
    "    idx          = jnp.argsort(other_dists, axis=-1)[:, 1:]                        # sort others and remove self\n",
    "    other_dists  = other_dists[jnp.arange(other_dists.shape[0])[:, None], idx]     # origin\n",
    "    other_theta  = other_theta[jnp.arange(other_theta.shape[0])[:, None], idx]\n",
    "    origin_dist  = jnp.sqrt(jnp.sum(swarm[:, :N_DRONES] ** 2, axis=-1))\n",
    "    origin_theta = jnp.arctan2(swarm[:, :N_DRONES][..., 1], swarm[:, :N_DRONES][..., 0])\n",
    "    return origin_theta, origin_dist, other_dists, other_theta\n",
    "\n",
    "def act(rng, params, swarm: Array, momentum=0.6) -> Array:\n",
    "    # swarm : n_drones x 4 (x, y, dx, dy)\n",
    "    coords, velocity = swarm.split(2, axis=1)\n",
    "    new_coords       = coords + velocity\n",
    "    obs              = observe(swarm)\n",
    "    theta, speed     = model(rng, params, obs)  # n_drones x 2 (theta, speed)\n",
    "    delta            = jnp.stack((speed * jnp.cos(theta), speed * jnp.sin(theta)), axis=1).squeeze()\n",
    "    new_velocity     = momentum * speed + (1 - momentum) * delta\n",
    "    new_velocity     = jax.nn.tanh(new_velocity) * 2\n",
    "    return jnp.concatenate([new_coords, new_velocity], axis=1)\n",
    "\n",
    "def model(rng, params, obs) -> Array:\n",
    "    # given an observation, predict the next action\n",
    "    noise  = random.normal(rng, (obs.shape[0], 2)) * 0.1\n",
    "    action = jnp.tanh(jnp.dot(obs, params) + noise)\n",
    "    return jnp.split(action, 2, axis=1)\n",
    "\n",
    "def loss_fn(image):\n",
    "    # minimise number of drones in the same pixel\n",
    "    return 1 - jnp.sum(image) / (N_DRONES * 9)\n",
    "\n",
    "def fitness_fn(genome, rng, n_steps=100) -> Array:\n",
    "    fitness = 0\n",
    "    swarm = init_swarm(N_DRONES)\n",
    "    for _ in range(n_steps):\n",
    "        rng, key = random.split(rng)\n",
    "        swarm    = act(key, genome, swarm)\n",
    "        image    = quantize(swarm)\n",
    "        fitness += loss_fn(image)\n",
    "    return fitness / n_steps\n",
    "\n",
    "def observe(swarm: Array) -> Array:\n",
    "    origin_theta, origin_dist, other_dists, other_theta = positions(swarm)\n",
    "    thetas = jnp.concatenate([origin_theta[:, None], other_theta], axis=1)  # n_drones x 1 + n_drones\n",
    "    dists  = jnp.concatenate([origin_dist[:, None], other_dists], axis=1)   # n_drones x 1 + n_drones\n",
    "    obs    = jnp.concatenate([thetas, dists], axis=1)                       # n_drones x 2 + 2 * n_drones\n",
    "    return obs\n",
    "\n",
    "def resize(source, target):\n",
    "    # make source have same dimensions as target (for plotting)\n",
    "    return jax.image.resize(source, (target.shape[0], target.shape[1]), method='nearest')\n",
    "\n",
    "def quantize(swarm: Array, resolution: int = 256) -> Array:\n",
    "    coords = (jnp.split(swarm, 2, axis=1)[0] * int(resolution ** 0.5)).astype(int).T\n",
    "    image = jnp.zeros((resolution, resolution))\n",
    "    matrix = image.at[coords].set(1)\n",
    "    return matrix\n",
    "\n",
    "params    = jnp.zeros((N_DRONES * 2, 2))\n",
    "rng, key  = random.split(random.PRNGKey(0))\n",
    "strategy  = OpenES(popsize=POPSIZE, pholder_params=params)   # for each drone, theta and speed of others, to theta and speed of self\n",
    "es_params = strategy.default_params\n",
    "state     = strategy.initialize(key, es_params)\n",
    "\n",
    "for _ in range(100):\n",
    "    rng, key       = random.split(rng)\n",
    "    genome, state  = strategy.ask(key, state, es_params)\n",
    "    fitnesses      = vmap(fitness_fn, in_axes=(0, None))(genome, rng)"
   ]
  },
  {
   "cell_type": "code",
   "execution_count": null,
   "metadata": {},
   "outputs": [],
   "source": []
  },
  {
   "cell_type": "code",
   "execution_count": null,
   "metadata": {},
   "outputs": [],
   "source": []
  },
  {
   "cell_type": "code",
   "execution_count": null,
   "metadata": {},
   "outputs": [],
   "source": []
  }
 ],
 "metadata": {
  "kernelspec": {
   "display_name": "Python 3 (ipykernel)",
   "language": "python",
   "name": "python3"
  },
  "language_info": {
   "codemirror_mode": {
    "name": "ipython",
    "version": 3
   },
   "file_extension": ".py",
   "mimetype": "text/x-python",
   "name": "python",
   "nbconvert_exporter": "python",
   "pygments_lexer": "ipython3",
   "version": "3.11.4"
  }
 },
 "nbformat": 4,
 "nbformat_minor": 2
}
