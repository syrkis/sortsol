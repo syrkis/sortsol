{
 "cells": [
  {
   "cell_type": "code",
   "execution_count": 162,
   "metadata": {},
   "outputs": [],
   "source": [
    "import jax\n",
    "import jax.numpy as jnp\n",
    "from jax import grad, jit, vmap, pmap\n",
    "import seaborn as sns\n",
    "from tqdm import tqdm\n",
    "from evojax.algo import SimpleGA\n",
    "from evosax.problems import BBOBFitness\n",
    "import seaborn as sns\n",
    "from evosax import problems as p\n",
    "from functools import partial\n",
    "from typing import Callable, Tuple, List, Dict, Any, Optional\n",
    "\n",
    "from src.plots import plot_multiples"
   ]
  },
  {
   "cell_type": "code",
   "execution_count": 130,
   "metadata": {},
   "outputs": [],
   "source": [
    "rng = jax.random.PRNGKey(0)\n",
    "N_DRONES = int(128 ** 0.5) ** 2\n",
    "N_METERS = 1024"
   ]
  },
  {
   "cell_type": "code",
   "execution_count": 131,
   "metadata": {},
   "outputs": [],
   "source": [
    "# TYPES\n",
    "Array = jnp.ndarray\n",
    "Swarm = Tuple[Array, Array, Array, Array] # (position, velocity, mask, battery)\n",
    "Terrain = Tuple[Array]\n",
    "Observation = Tuple[Swarm, Terrain]\n",
    "Population = List[Swarm]\n",
    "State = Tuple[Swarm, Terrain]"
   ]
  },
  {
   "cell_type": "code",
   "execution_count": 132,
   "metadata": {},
   "outputs": [
    {
     "name": "stdout",
     "output_type": "stream",
     "text": [
      "(121, 3)\n"
     ]
    }
   ],
   "source": [
    "def random_position(n_drones, rng: Array) -> Array:\n",
    "    return jax.random.uniform(rng, (n_drones, 3), minval=0, maxval=N_METERS)\n",
    "\n",
    "def grid_positions(n_drones, dispersion=100) -> Array:\n",
    "    x_range = jnp.linspace((N_METERS // 2)-dispersion, (N_METERS // 2)+dispersion, int(n_drones ** 0.5))\n",
    "    x, y = jnp.meshgrid(x_range, x_range)\n",
    "    position = jnp.stack([x.ravel(), y.ravel(), jnp.zeros_like(x.ravel())], axis=-1)\n",
    "    return position\n",
    "\n",
    "def init_drones(position_fn: Callable = grid_positions, n_drones=128, **kwargs) -> Swarm:\n",
    "    position = position_fn(n_drones, **kwargs)\n",
    "    velocity = jnp.zeros((position.shape[0], 3))\n",
    "    battery = jnp.ones((position.shape[0]))\n",
    "    mask = jnp.ones((position.shape[0])).astype(bool)\n",
    "    return position, velocity, mask, battery\n",
    "\n",
    "drones = init_drones(grid_positions)\n",
    "print(drones[0].shape)  # see the shape of the drones positions (N_DRONES, 3)"
   ]
  },
  {
   "cell_type": "code",
   "execution_count": 133,
   "metadata": {},
   "outputs": [
    {
     "data": {
      "text/plain": [
       "((121, 8, 3), (121, 121))"
      ]
     },
     "execution_count": 133,
     "metadata": {},
     "output_type": "execute_result"
    }
   ],
   "source": [
    "def drone_dists(drones: Swarm) -> Array:\n",
    "    position, _, mask, _ = drones\n",
    "    delta = position[:, jnp.newaxis, :] - position[jnp.newaxis, :, :]\n",
    "    dists = jnp.sqrt(jnp.sum(delta ** 2, axis=-1))\n",
    "    return dists\n",
    "\n",
    "def get_neighbours(drones: Swarm, dists: Array, n_neighbours: int = 8) -> Array:\n",
    "    idxs = jnp.argsort(dists, axis=-1)[:, 1:n_neighbours+1]\n",
    "    dists = jnp.take_along_axis(dists, idxs, axis=-1)\n",
    "    neigh = drones[0][idxs] - drones[0][:, jnp.newaxis, :]\n",
    "    phi = jnp.arctan2(neigh[..., 1], neigh[..., 0])\n",
    "    theta = jnp.arctan2(neigh[..., 2], neigh[..., 0])\n",
    "    neigh = jnp.stack([dists, phi, theta], axis=-1)\n",
    "    return neigh\n",
    "\n",
    "def observe(drones: Swarm, terrain: Terrain) -> Observation:\n",
    "    # coords = drones[0].astype(jnp.int32)[:,:2]\n",
    "    # height = terrain[coords[:, 0], coords[:, 1]]\n",
    "    dists = drone_dists(drones)\n",
    "    neighs = get_neighbours(drones, dists)\n",
    "    obs = neighs # .reshape((drones[0].shape[0], -1))\n",
    "    return obs, dists\n",
    "\n",
    "obs, dists = observe(drones, None)\n",
    "obs.shape, dists.shape"
   ]
  },
  {
   "cell_type": "code",
   "execution_count": 134,
   "metadata": {},
   "outputs": [],
   "source": [
    "def action_fn(observation: Array, mask: Array, rng: Array) -> Array:\n",
    "    action = model(observation, rng)\n",
    "    action = action * mask[:, jnp.newaxis]\n",
    "    return action\n",
    "\n",
    "def model(observation: Array, chromo: Array) -> Array:\n",
    "    return jnp.matmul(observation, chromo)"
   ]
  },
  {
   "cell_type": "code",
   "execution_count": 135,
   "metadata": {},
   "outputs": [],
   "source": [
    "def collision_test(drones: Swarm, dists, threshold: float = 1.0) -> Array:\n",
    "    mask = jnp.triu(dists < threshold, k=1)\n",
    "    mask = jnp.any(mask, axis=0) | jnp.any(mask, axis=1)\n",
    "    return ~mask\n",
    "\n",
    "def step_fn(drones: Swarm, rng: Array) -> Swarm:\n",
    "    position, velocity, mask, battery = drones\n",
    "    dists = drone_dists(drones)\n",
    "    action = action_fn(observe(position), mask, rng)\n",
    "    velocity = velocity * mask[:, jnp.newaxis]\n",
    "    position = position + (velocity * action)\n",
    "    velocity = velocity + action\n",
    "    battery = battery - jnp.sqrt(jnp.sum(action ** 2, axis=-1))\n",
    "    return position, velocity, battery"
   ]
  },
  {
   "cell_type": "code",
   "execution_count": 136,
   "metadata": {},
   "outputs": [],
   "source": [
    "def quantize(drone: Swarm, n_bins: int = 1000) -> Array:\n",
    "    # position is between 0 and 1000\n",
    "    position, _, _, _ = drone\n",
    "    env = jnp.zeros((n_bins, n_bins)).astype(jnp.int32)\n",
    "    position = position / 1000 * n_bins\n",
    "    return env.at[jnp.clip(position[:, 0], 0, n_bins - 1).astype(jnp.int32),\n",
    "                  jnp.clip(position[:, 1], 0, n_bins - 1).astype(jnp.int32)].add(1)\n"
   ]
  },
  {
   "cell_type": "code",
   "execution_count": 137,
   "metadata": {},
   "outputs": [],
   "source": [
    "def fitness_fn(drones: Swarm, terrain: Terrain) -> Array:\n",
    "    position, _, mask, battery = drones\n",
    "    coords = position.astype(jnp.int32)[:,:2]\n",
    "    height = terrain[coords[:, 0], coords[:, 1]]\n",
    "    reward = jnp.where(mask, height, 0)\n",
    "    return reward\n",
    "\n",
    "def generation(drones: Swarm, rng: Array, n_steps=100) -> Swarm:\n",
    "    position, velocity, mask, battery = drones\n",
    "    for step in range(n_steps):\n",
    "        rng, key = jax.random.split(rng)\n",
    "        mask &= collision_test(position, velocity, mask)\n",
    "        position, velocity, battery = step_fn(position, velocity, mask, battery, key)\n",
    "        img = quantize(position)\n",
    "\n",
    "def evolve(rng: Array, n_generations: int = 100, n_swarms=32, population_size=128) -> Swarm:\n",
    "    # strategy = CMA_ES(popsize=20, num_dims=2, elite_ratio=0.5)\n",
    "    population = [init_drones() for _ in range(population_size)]\n",
    "    for gen in tqdm(range(n_generations)):\n",
    "        population = vmap(generation, in_axes=(0, None))(population, rng)\n",
    "        population = strategy.ask()\n",
    "    return population\n",
    "\n",
    "drones = init_drones()"
   ]
  },
  {
   "cell_type": "code",
   "execution_count": 166,
   "metadata": {},
   "outputs": [
    {
     "name": "stdout",
     "output_type": "stream",
     "text": [
      "[-0.02106828  0.00579773]\n",
      "[0.03692337 0.01398476]\n",
      "[-0.0402924  -0.01247595]\n",
      "[0.04882938 0.02527223]\n",
      "[0.06123389 0.03027628]\n",
      "[0.06106074 0.04272819]\n",
      "[ 0.00523065 -0.08822921]\n",
      "[ 0.00883651 -0.09628724]\n",
      "[ 0.01385633 -0.1292479 ]\n",
      "[ 0.00824571 -0.130477  ]\n"
     ]
    }
   ],
   "source": [
    "# Instantiate the search strategy\n",
    "rng = jax.random.PRNGKey(0)\n",
    "strategy = SimpleGA(param_size=2, pop_size=10)\n",
    "for t in range(10):\n",
    "    # Ask for new parameters\n",
    "    params = strategy.ask()\n",
    "    # Evaluate the parameters\n",
    "    fitness = jnp.sum(params ** 2, axis=-1)\n",
    "    # Update the search strategy\n",
    "    strategy.tell(fitness)\n",
    "    # Print the best parameters\n",
    "    print(strategy.best_params)"
   ]
  },
  {
   "cell_type": "code",
   "execution_count": null,
   "metadata": {},
   "outputs": [],
   "source": []
  }
 ],
 "metadata": {
  "kernelspec": {
   "display_name": "Python 3",
   "language": "python",
   "name": "python3"
  },
  "language_info": {
   "codemirror_mode": {
    "name": "ipython",
    "version": 3
   },
   "file_extension": ".py",
   "mimetype": "text/x-python",
   "name": "python",
   "nbconvert_exporter": "python",
   "pygments_lexer": "ipython3",
   "version": "3.11.4"
  }
 },
 "nbformat": 4,
 "nbformat_minor": 2
}
