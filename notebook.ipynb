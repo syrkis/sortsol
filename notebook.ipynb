{
 "cells": [
  {
   "cell_type": "code",
   "execution_count": 172,
   "metadata": {},
   "outputs": [],
   "source": [
    "import jax\n",
    "import jax.numpy as jnp\n",
    "from jax import grad, jit, vmap, pmap\n",
    "import seaborn as sns\n",
    "from tqdm import tqdm\n",
    "from evojax.algo import SimpleGA, PGPE\n",
    "from evosax.problems import BBOBFitness\n",
    "import seaborn as sns\n",
    "from evosax import problems as p\n",
    "from functools import partial\n",
    "from typing import Callable, Tuple, List, Dict, Any, Optional\n",
    "\n",
    "from src.plots import plot_multiples"
   ]
  },
  {
   "cell_type": "code",
   "execution_count": 130,
   "metadata": {},
   "outputs": [],
   "source": [
    "rng = jax.random.PRNGKey(0)\n",
    "N_DRONES = int(128 ** 0.5) ** 2\n",
    "N_METERS = 1024"
   ]
  },
  {
   "cell_type": "code",
   "execution_count": 131,
   "metadata": {},
   "outputs": [],
   "source": [
    "# TYPES\n",
    "Array = jnp.ndarray\n",
    "Swarm = Tuple[Array, Array, Array, Array] # (position, velocity, mask, battery)\n",
    "Terrain = Tuple[Array]\n",
    "Observation = Tuple[Swarm, Terrain]\n",
    "Population = List[Swarm]\n",
    "State = Tuple[Swarm, Terrain]"
   ]
  },
  {
   "cell_type": "code",
   "execution_count": 132,
   "metadata": {},
   "outputs": [
    {
     "name": "stdout",
     "output_type": "stream",
     "text": [
      "(121, 3)\n"
     ]
    }
   ],
   "source": [
    "def random_position(n_drones, rng: Array) -> Array:\n",
    "    return jax.random.uniform(rng, (n_drones, 3), minval=0, maxval=N_METERS)\n",
    "\n",
    "def grid_positions(n_drones, dispersion=100) -> Array:\n",
    "    x_range = jnp.linspace((N_METERS // 2)-dispersion, (N_METERS // 2)+dispersion, int(n_drones ** 0.5))\n",
    "    x, y = jnp.meshgrid(x_range, x_range)\n",
    "    position = jnp.stack([x.ravel(), y.ravel(), jnp.zeros_like(x.ravel())], axis=-1)\n",
    "    return position\n",
    "\n",
    "def init_drones(position_fn: Callable = grid_positions, n_drones=128, **kwargs) -> Swarm:\n",
    "    position = position_fn(n_drones, **kwargs)\n",
    "    velocity = jnp.zeros((position.shape[0], 3))\n",
    "    battery = jnp.ones((position.shape[0]))\n",
    "    mask = jnp.ones((position.shape[0])).astype(bool)\n",
    "    return position, velocity, mask, battery\n",
    "\n",
    "drones = init_drones(grid_positions)\n",
    "print(drones[0].shape)  # see the shape of the drones positions (N_DRONES, 3)"
   ]
  },
  {
   "cell_type": "code",
   "execution_count": 133,
   "metadata": {},
   "outputs": [
    {
     "data": {
      "text/plain": [
       "((121, 8, 3), (121, 121))"
      ]
     },
     "execution_count": 133,
     "metadata": {},
     "output_type": "execute_result"
    }
   ],
   "source": [
    "def drone_dists(drones: Swarm) -> Array:\n",
    "    position, _, mask, _ = drones\n",
    "    delta = position[:, jnp.newaxis, :] - position[jnp.newaxis, :, :]\n",
    "    dists = jnp.sqrt(jnp.sum(delta ** 2, axis=-1))\n",
    "    return dists\n",
    "\n",
    "def get_neighbours(drones: Swarm, dists: Array, n_neighbours: int = 8) -> Array:\n",
    "    idxs = jnp.argsort(dists, axis=-1)[:, 1:n_neighbours+1]\n",
    "    dists = jnp.take_along_axis(dists, idxs, axis=-1)\n",
    "    neigh = drones[0][idxs] - drones[0][:, jnp.newaxis, :]\n",
    "    phi = jnp.arctan2(neigh[..., 1], neigh[..., 0])\n",
    "    theta = jnp.arctan2(neigh[..., 2], neigh[..., 0])\n",
    "    neigh = jnp.stack([dists, phi, theta], axis=-1)\n",
    "    return neigh\n",
    "\n",
    "def observe(drones: Swarm, terrain: Terrain) -> Observation:\n",
    "    # coords = drones[0].astype(jnp.int32)[:,:2]\n",
    "    # height = terrain[coords[:, 0], coords[:, 1]]\n",
    "    dists = drone_dists(drones)\n",
    "    neighs = get_neighbours(drones, dists)\n",
    "    obs = neighs # .reshape((drones[0].shape[0], -1))\n",
    "    return obs, dists\n",
    "\n",
    "obs, dists = observe(drones, None)\n",
    "obs.shape, dists.shape"
   ]
  },
  {
   "cell_type": "code",
   "execution_count": 134,
   "metadata": {},
   "outputs": [],
   "source": [
    "def action_fn(observation: Array, mask: Array, rng: Array) -> Array:\n",
    "    action = model(observation, rng)\n",
    "    action = action * mask[:, jnp.newaxis]\n",
    "    return action\n",
    "\n",
    "def model(observation: Array, chromo: Array) -> Array:\n",
    "    return jnp.matmul(observation, chromo)"
   ]
  },
  {
   "cell_type": "code",
   "execution_count": 135,
   "metadata": {},
   "outputs": [],
   "source": [
    "def collision_test(drones: Swarm, dists, threshold: float = 1.0) -> Array:\n",
    "    mask = jnp.triu(dists < threshold, k=1)\n",
    "    mask = jnp.any(mask, axis=0) | jnp.any(mask, axis=1)\n",
    "    return ~mask\n",
    "\n",
    "def step_fn(drones: Swarm, rng: Array) -> Swarm:\n",
    "    position, velocity, mask, battery = drones\n",
    "    dists = drone_dists(drones)\n",
    "    action = action_fn(observe(position), mask, rng)\n",
    "    velocity = velocity * mask[:, jnp.newaxis]\n",
    "    position = position + (velocity * action)\n",
    "    velocity = velocity + action\n",
    "    battery = battery - jnp.sqrt(jnp.sum(action ** 2, axis=-1))\n",
    "    return position, velocity, battery"
   ]
  },
  {
   "cell_type": "code",
   "execution_count": 136,
   "metadata": {},
   "outputs": [],
   "source": [
    "def quantize(drone: Swarm, n_bins: int = 1000) -> Array:\n",
    "    # position is between 0 and 1000\n",
    "    position, _, _, _ = drone\n",
    "    env = jnp.zeros((n_bins, n_bins)).astype(jnp.int32)\n",
    "    position = position / 1000 * n_bins\n",
    "    return env.at[jnp.clip(position[:, 0], 0, n_bins - 1).astype(jnp.int32),\n",
    "                  jnp.clip(position[:, 1], 0, n_bins - 1).astype(jnp.int32)].add(1)\n"
   ]
  },
  {
   "cell_type": "code",
   "execution_count": 174,
   "metadata": {},
   "outputs": [],
   "source": [
    "def reward_fn(drones: Swarm, terrain: Terrain) -> Array:\n",
    "    pass\n",
    "\n",
    "def generation(drones: Swarm, rng: Array, n_steps=100) -> Swarm:\n",
    "    position, velocity, mask, battery = drones\n",
    "    for step in range(n_steps):\n",
    "        rng, key = jax.random.split(rng)\n",
    "        mask &= collision_test(position, velocity, mask)\n",
    "        position, velocity, battery = step_fn(position, velocity, mask, battery, key)\n",
    "        img = quantize(position)\n",
    "\n",
    "def evolve(rng: Array, n_generations: int = 100, n_swarms=32, population_size=128) -> Swarm:\n",
    "    # strategy = CMA_ES(popsize=20, num_dims=2, elite_ratio=0.5)\n",
    "    population = [init_drones() for _ in range(population_size)]\n",
    "    strategy = SimpleGA(population, fitness_fn)\n",
    "    for gen in tqdm(range(n_generations)):\n",
    "        population = vmap(generation, in_axes=(0, None))(population, rng)\n",
    "        population = strategy.ask()\n",
    "    return population\n",
    "\n",
    "def fitness_fn(params):\n",
    "    params = jnp.array(params).reshape((8, 3))\n",
    "    drones = init_drones(position_fn=partial(grid_positions, dispersion=100))\n",
    "    fitness = generation(params, drones)\n",
    "    fitness = reward_fn(fitness)\n",
    "    return fitness\n",
    "\n",
    "drones = init_drones()"
   ]
  },
  {
   "cell_type": "code",
   "execution_count": 173,
   "metadata": {},
   "outputs": [
    {
     "name": "stdout",
     "output_type": "stream",
     "text": [
      "Generation 0, Best Params: [0.00065204 0.00040044]\n",
      "Generation 1, Best Params: [ 0.00030255 -0.00034209]\n",
      "Generation 2, Best Params: [-0.00018763 -0.00014254]\n",
      "Generation 3, Best Params: [ 1.9429062e-04 -2.7376693e-05]\n",
      "Generation 4, Best Params: [-4.0013625e-04  6.9630820e-05]\n",
      "Generation 5, Best Params: [-0.00029281 -0.00054618]\n",
      "Generation 6, Best Params: [-1.26137151e-04  1.20906625e-05]\n",
      "Generation 7, Best Params: [0.00046332 0.00039844]\n",
      "Generation 8, Best Params: [-0.00016824  0.00025088]\n",
      "Generation 9, Best Params: [-0.00023508 -0.0002191 ]\n",
      "Generation 10, Best Params: [-5.8207705e-05  7.2770554e-04]\n",
      "Generation 11, Best Params: [-5.1661953e-04 -9.4003626e-06]\n",
      "Generation 12, Best Params: [-1.2868433e-05 -1.2605096e-04]\n",
      "Generation 13, Best Params: [-2.846879e-05  3.197082e-04]\n",
      "Generation 14, Best Params: [ 3.5489429e-04 -5.1322306e-05]\n",
      "Generation 15, Best Params: [-7.6900818e-05 -3.2153766e-05]\n",
      "Generation 16, Best Params: [0.00020799 0.00046257]\n",
      "Generation 17, Best Params: [-3.0939438e-05 -1.3033481e-05]\n",
      "Generation 18, Best Params: [0.0003334  0.00027832]\n",
      "Generation 19, Best Params: [-3.4242927e-05 -1.3057727e-04]\n",
      "Generation 20, Best Params: [-0.00017336  0.00043176]\n",
      "Generation 21, Best Params: [-5.0065733e-05 -4.2075731e-04]\n",
      "Generation 22, Best Params: [ 0.00042559 -0.00023632]\n",
      "Generation 23, Best Params: [-0.00016409 -0.00034424]\n",
      "Generation 24, Best Params: [1.3835612e-05 1.5823272e-04]\n",
      "Generation 25, Best Params: [7.896243e-05 8.090063e-05]\n",
      "Generation 26, Best Params: [-8.238638e-04  9.715505e-05]\n",
      "Generation 27, Best Params: [-3.2310124e-04 -3.3580232e-05]\n",
      "Generation 28, Best Params: [ 7.643190e-06 -3.607159e-04]\n",
      "Generation 29, Best Params: [ 0.00027408 -0.00024289]\n",
      "Generation 30, Best Params: [ 3.6294936e-05 -2.3056168e-04]\n",
      "Generation 31, Best Params: [-0.00038974  0.00012393]\n",
      "Generation 32, Best Params: [0.00025755 0.00011956]\n",
      "Generation 33, Best Params: [ 8.7436390e-05 -1.7688647e-04]\n",
      "Generation 34, Best Params: [9.266848e-05 9.736847e-06]\n",
      "Generation 35, Best Params: [-0.00010966  0.00010884]\n",
      "Generation 36, Best Params: [ 0.000275   -0.00016133]\n",
      "Generation 37, Best Params: [ 8.8315501e-05 -1.1868097e-04]\n",
      "Generation 38, Best Params: [0.00017609 0.0002598 ]\n",
      "Generation 39, Best Params: [ 0.00019509 -0.0001128 ]\n",
      "Generation 40, Best Params: [1.4732315e-05 8.7029854e-05]\n",
      "Generation 41, Best Params: [-1.5959414e-04 -5.2197851e-05]\n",
      "Generation 42, Best Params: [ 3.092308e-05 -9.245754e-05]\n",
      "Generation 43, Best Params: [-1.6445269e-05  1.6299472e-04]\n",
      "Generation 44, Best Params: [ 5.0431529e-05 -2.8232104e-04]\n",
      "Generation 45, Best Params: [ 8.3804036e-05 -1.1584809e-05]\n",
      "Generation 46, Best Params: [-7.0168586e-05 -7.6432567e-05]\n",
      "Generation 47, Best Params: [-7.873784e-05  7.762450e-05]\n",
      "Generation 48, Best Params: [ 7.9366728e-05 -1.7638745e-04]\n",
      "Generation 49, Best Params: [-1.0393279e-04 -8.1394035e-05]\n",
      "Final best parameters: [-1.0393279e-04 -8.1394035e-05]\n"
     ]
    }
   ],
   "source": [
    "\n",
    "param_size = 8 * 3 + 1\n",
    "pgpe = PGPE(32, param_size)\n",
    "num_generations = 50\n",
    "rng, key = jax.random.split(rng)\n",
    "for generation in range(num_generations):\n",
    "    solutions = pgpe.ask()\n",
    "    fitness_values = jnp.array([fitness_fn(sol) for sol in solutions])\n",
    "    pgpe.tell(fitness_values)\n",
    "    best_params = pgpe.best_params"
   ]
  },
  {
   "cell_type": "code",
   "execution_count": null,
   "metadata": {},
   "outputs": [],
   "source": []
  }
 ],
 "metadata": {
  "kernelspec": {
   "display_name": "Python 3",
   "language": "python",
   "name": "python3"
  },
  "language_info": {
   "codemirror_mode": {
    "name": "ipython",
    "version": 3
   },
   "file_extension": ".py",
   "mimetype": "text/x-python",
   "name": "python",
   "nbconvert_exporter": "python",
   "pygments_lexer": "ipython3",
   "version": "3.11.4"
  }
 },
 "nbformat": 4,
 "nbformat_minor": 2
}
