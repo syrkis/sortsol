{
 "cells": [
  {
   "cell_type": "markdown",
   "metadata": {},
   "source": [
    "# sortsol"
   ]
  },
  {
   "cell_type": "code",
   "execution_count": 18,
   "metadata": {},
   "outputs": [],
   "source": [
    "import syrkis\n",
    "\n",
    "import jax\n",
    "import jax.numpy as jnp\n",
    "from jax import grad, jit, vmap, random\n",
    "from evosax import OpenES\n",
    "\n",
    "from functools import partial\n",
    "from tqdm import tqdm\n",
    "from typing import Callable, Tuple, List, Dict, Any, Optional\n",
    "import seaborn as sns\n",
    "import matplotlib.pyplot as plt"
   ]
  },
  {
   "cell_type": "code",
   "execution_count": 19,
   "metadata": {},
   "outputs": [],
   "source": [
    "POPSIZE  = 100\n",
    "N_DRONES = 16\n",
    "kernel   = jnp.ones((5, 5))[:, :, None, None]"
   ]
  },
  {
   "cell_type": "code",
   "execution_count": 20,
   "metadata": {},
   "outputs": [],
   "source": [
    "# TYPES\n",
    "Array = jnp.ndarray"
   ]
  },
  {
   "cell_type": "code",
   "execution_count": 21,
   "metadata": {},
   "outputs": [],
   "source": [
    "def grid_positions(n_drones) -> Array:\n",
    "    # n_drones is power of 2\n",
    "    lo, hi = - int(n_drones ** 0.5), int(n_drones ** 0.5)\n",
    "    span   = jnp.linspace(lo, hi, int(n_drones ** 0.5))\n",
    "    x, y   = jnp.meshgrid(span, span)\n",
    "    coords = jnp.stack([x.ravel(), y.ravel()], axis=1)\n",
    "    return coords\n",
    "\n",
    "def init_swarm(n_drones: int) -> Array:\n",
    "    coords   = grid_positions(n_drones)\n",
    "    velocity = jnp.zeros_like(coords)\n",
    "    swarm    = jnp.concatenate([coords, velocity], axis=1)\n",
    "    return swarm\n",
    "\n",
    "def conv2d(x, w):\n",
    "    return jax.lax.conv_general_dilated(x, w, window_strides=(1, 1),padding='SAME',dimension_numbers=(\"NHWC\", \"HWIO\", \"NHWC\")).squeeze()\n",
    "\n",
    "def positions(swarm: Array) -> Array:  # TODO: sort by distance (probably)\n",
    "    delta        = swarm[:, :N_DRONES][:, jnp.newaxis] - swarm[:, :N_DRONES][jnp.newaxis, :]                      \n",
    "    other_dists  = jnp.sqrt(jnp.sum(delta ** 2, axis=-1))                          # others\n",
    "    other_theta  = jnp.arctan2(delta[..., 1], delta[..., 0])\n",
    "    idx          = jnp.argsort(other_dists, axis=-1)[:, 1:]                        # sort others and remove self\n",
    "    other_dists  = other_dists[jnp.arange(other_dists.shape[0])[:, None], idx]     # origin\n",
    "    other_theta  = other_theta[jnp.arange(other_theta.shape[0])[:, None], idx]\n",
    "    origin_dist  = jnp.sqrt(jnp.sum(swarm[:, :N_DRONES] ** 2, axis=-1))\n",
    "    origin_theta = jnp.arctan2(swarm[:, :N_DRONES][..., 1], swarm[:, :N_DRONES][..., 0])\n",
    "    return origin_theta, origin_dist, other_dists, other_theta\n",
    "\n",
    "def act(rng, params, swarm: Array, momentum=0.6) -> Array:\n",
    "    # swarm : n_drones x 4 (x, y, dx, dy)\n",
    "    coords, velocity = jnp.split(swarm, 2, axis=1)\n",
    "    new_coords       = coords + velocity\n",
    "    obs              = observe(swarm)\n",
    "    theta, speed     = model(rng, params, obs)  # n_drones x 2 (theta, speed)\n",
    "    delta            = jnp.stack((speed * jnp.cos(theta), speed * jnp.sin(theta)), axis=1).squeeze()\n",
    "    new_velocity     = momentum * speed + (1 - momentum) * delta\n",
    "    new_velocity     = jax.nn.tanh(new_velocity) * 2\n",
    "    return jnp.concatenate([new_coords, new_velocity], axis=1)\n",
    "\n",
    "def model(rng, params, obs) -> Array:\n",
    "    # given an observation, predict the next action\n",
    "    noise  = random.normal(rng, (obs.shape[0], 2)) * 0.01\n",
    "    action = jnp.tanh(jnp.dot(obs, params) + noise)\n",
    "    return jnp.split(action, 2, axis=1)\n",
    "\n",
    "def loss_fn(image, dists):\n",
    "    # minimise number of drones in the same pixel\n",
    "    coverage_term  = 1 / jnp.sqrt(jnp.abs(dists[1:])).mean()\n",
    "    collision_term = jnp.log(1 / ((image.sum() + 1) / (N_DRONES * kernel.size)))\n",
    "    return collision_term + coverage_term\n",
    "\n",
    "@jit\n",
    "def fitness_fn(genome, rng, n_steps=200) -> Array:\n",
    "    swarm = init_swarm(N_DRONES)\n",
    "    for i in range(n_steps):\n",
    "        rng, key = random.split(rng)\n",
    "        swarm    = act(key, genome, swarm)\n",
    "        if i == n_steps - 1:\n",
    "            image    = quantize(swarm)\n",
    "            obs      = observe(swarm)\n",
    "            dists    = jnp.split(obs, 2, axis=1)[0]\n",
    "            return loss_fn(image, dists)\n",
    "\n",
    "def observe(swarm: Array) -> Array:\n",
    "    origin_theta, origin_dist, other_dists, other_theta = positions(swarm)\n",
    "    thetas = jnp.concatenate([origin_theta[:, None], other_theta], axis=1)  # n_drones x 1 + n_drones\n",
    "    dists  = jnp.concatenate([origin_dist[:, None], other_dists], axis=1)   # n_drones x 1 + n_drones\n",
    "    obs    = jnp.concatenate([thetas, dists], axis=1)                       # n_drones x 2 + 2 * n_drones\n",
    "    return obs\n",
    "\n",
    "def resize(source, target):\n",
    "    # make source have same dimensions as target (for plotting)\n",
    "    return jax.image.resize(source, (target.shape[0], target.shape[1]), method='nearest')\n",
    "\n",
    "@jit\n",
    "def quantize(swarm: Array, resolution: int = 512) -> Array:\n",
    "    coords = (jnp.split(swarm, 2, axis=1)[0] * int(10)).astype(int) + resolution // 2\n",
    "    x, y   = jnp.split(coords, 2, axis=1)\n",
    "    x, y   = x.squeeze(), y.squeeze()\n",
    "    # remove coordinates not in bounds\n",
    "    image  = jnp.zeros((resolution, resolution))\n",
    "    mask   = (x >= 0) & (x < resolution) & (y >= 0) & (y < resolution)\n",
    "    x, y   = x * mask, y * mask\n",
    "    matrix = image.at[x, y].add(1)[None, ..., None]\n",
    "    matrix = conv2d(matrix, kernel)\n",
    "    return (matrix == 1).astype(int)"
   ]
  },
  {
   "cell_type": "code",
   "execution_count": 22,
   "metadata": {},
   "outputs": [
    {
     "name": "stdout",
     "output_type": "stream",
     "text": [
      "ParameterReshaper: 256 parameters detected for optimization.\n"
     ]
    },
    {
     "name": "stderr",
     "output_type": "stream",
     "text": [
      "  0%|          | 0/100 [00:00<?, ?it/s]"
     ]
    }
   ],
   "source": [
    "def train():\n",
    "    params    = jnp.zeros((N_DRONES * 2, 2))\n",
    "    strategy  = OpenES(popsize=POPSIZE, pholder_params=params)   # for each drone, theta and speed of others, to theta and speed of self\n",
    "    es_params = strategy.default_params\n",
    "    rng, key  = random.split(random.PRNGKey(0))\n",
    "    state     = strategy.initialize(key, es_params)\n",
    "\n",
    "    pbar = tqdm(range(100))\n",
    "    for i in pbar:\n",
    "        rng, key       = random.split(rng)\n",
    "        genome, state  = strategy.ask(key, state, es_params)\n",
    "        genome        *= 0.1\n",
    "        fitness        = vmap(fitness_fn, in_axes=(0, None))(genome, rng)\n",
    "        pbar.set_description(f'fitness: {fitness.mean():.3f}')\n",
    "        if i % 2 == 0:\n",
    "            best_params  = genome[fitness.argmin()]\n",
    "            worst_params = genome[fitness.argmax()]\n",
    "            best_swarm      = init_swarm(N_DRONES)\n",
    "            worst_swarm     = init_swarm(N_DRONES)\n",
    "            for j in range(100):\n",
    "                rng, key = random.split(rng)\n",
    "                best_obs      = observe(best_swarm)\n",
    "                best_dists    = jnp.split(best_obs, 2, axis=1)[0]\n",
    "                best_swarm    = act(key, best_params, best_swarm)\n",
    "                best_image    = quantize(best_swarm)\n",
    "                best_loss     = loss_fn(best_image, best_dists)\n",
    "                worst_obs     = observe(worst_swarm)\n",
    "                worst_dists   = jnp.split(worst_obs, 2, axis=1)[0]\n",
    "                worst_swarm   = act(key, worst_params, worst_swarm)\n",
    "                worst_image   = quantize(worst_swarm)\n",
    "                worst_loss    = loss_fn(worst_image, worst_dists)\n",
    "                imgs          = jnp.stack([best_image[:, :, None], worst_image[:, :, None]], axis=0)\n",
    "                low_bar       = [\"best loss: {:.3f}\".format(best_loss), \"worst loss: {:.3f}\".format(worst_loss)]\n",
    "                syrkis.plot.multiples(imgs, 1, 2, low_bar=low_bar, invertable=True)\n",
    "train()"
   ]
  },
  {
   "cell_type": "code",
   "execution_count": null,
   "metadata": {},
   "outputs": [],
   "source": [
    "swarm    = init_swarm(N_DRONES)\n",
    "rng, key = random.split(random.PRNGKey(0))\n",
    "obs      = observe(swarm)\n",
    "params = - jnp.ones((N_DRONES * 2, 2))  \n",
    "\n",
    "for i in range(50):\n",
    "    rng, key = random.split(rng)\n",
    "    # fitness  = fitness_fn(params, key)\n",
    "    obs      = observe(swarm)\n",
    "    dists    = jnp.split(obs, 2, axis=1)[0]\n",
    "    swarm    = act(key, params, swarm)\n",
    "    image    = quantize(swarm)\n",
    "    loss     = loss_fn(image, dists)\n",
    "    imgs     = jnp.stack([image[:, :, None], image[:, :, None], image[:, :, None]], axis=0)\n",
    "    low_bar  = [f\"loss: {loss:.3f}\"]\n",
    "    syrkis.plot.multiples(imgs, 1, 2, low_bar=low_bar, invertable=True)"
   ]
  },
  {
   "cell_type": "code",
   "execution_count": null,
   "metadata": {},
   "outputs": [],
   "source": [
    "jnp.log(1 / ((image.sum() + 1) / (N_DRONES * kernel.size)))"
   ]
  },
  {
   "cell_type": "code",
   "execution_count": null,
   "metadata": {},
   "outputs": [],
   "source": [
    "1 / jnp.abs(dists).mean()"
   ]
  },
  {
   "cell_type": "code",
   "execution_count": null,
   "metadata": {},
   "outputs": [],
   "source": [
    "imgs.shape"
   ]
  },
  {
   "cell_type": "code",
   "execution_count": null,
   "metadata": {},
   "outputs": [],
   "source": []
  }
 ],
 "metadata": {
  "kernelspec": {
   "display_name": "Python 3 (ipykernel)",
   "language": "python",
   "name": "python3"
  },
  "language_info": {
   "codemirror_mode": {
    "name": "ipython",
    "version": 3
   },
   "file_extension": ".py",
   "mimetype": "text/x-python",
   "name": "python",
   "nbconvert_exporter": "python",
   "pygments_lexer": "ipython3",
   "version": "3.11.4"
  }
 },
 "nbformat": 4,
 "nbformat_minor": 2
}
